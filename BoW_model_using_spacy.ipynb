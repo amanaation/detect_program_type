{
 "cells": [
  {
   "cell_type": "markdown",
   "metadata": {},
   "source": [
    "# Importing Required Modules"
   ]
  },
  {
   "cell_type": "code",
   "execution_count": 53,
   "metadata": {},
   "outputs": [],
   "source": [
    "import en_core_web_sm\n",
    "import os\n",
    "import pandas as pd\n",
    "import random\n",
    "import re\n",
    "import spacy\n",
    "import string \n",
    "import spacy\n",
    "from spacy.util import minibatch"
   ]
  },
  {
   "cell_type": "code",
   "execution_count": 2,
   "metadata": {},
   "outputs": [],
   "source": [
    "nlp = spacy.load('en_core_web_sm')"
   ]
  },
  {
   "cell_type": "markdown",
   "metadata": {},
   "source": [
    "### Creating a DataFrame from the files presnt in the provided path having 2 columns named \"file_type\" containing the type of file e.g. py, csv, txt, json and  \"content\" i.e. the actual data/content of the file. Change the value of the paths variable"
   ]
  },
  {
   "cell_type": "code",
   "execution_count": 13,
   "metadata": {},
   "outputs": [],
   "source": [
    "def preprocess(text):\n",
    "    doc = nlp(text)\n",
    "    return [word.lemma_ for word in doc if not word.is_stop and str(word) not in string.punctuation and str(word) not in [\"\\t\",\"\\n\"] and str(word).isalpha()]\n"
   ]
  },
  {
   "cell_type": "code",
   "execution_count": 15,
   "metadata": {},
   "outputs": [],
   "source": [
    "path = \"sample_files2/\"\n",
    "file_data = {\"file_type\" : [], \"content\" : []}\n",
    "for root, dirs, files in os.walk(path):\n",
    "    for file_name in files:        \n",
    "        file_name = os.path.join(root, file_name)\n",
    "        if \".\" in file_name and \"json\" not in file_name:\n",
    "            data = open(file_name, encoding = \"ISO-8859-1\")\n",
    "            content = data.read()\n",
    "            content = ' '.join(preprocess(content))\n",
    "            \n",
    "            type_of_file = file_name.split(\".\")[-1]\n",
    "            file_data[\"file_type\"].append(type_of_file)\n",
    "            file_data[\"content\"].append(content)\n",
    "            \n",
    "        #'''"
   ]
  },
  {
   "cell_type": "markdown",
   "metadata": {},
   "source": [
    "## Storing all the available file types in a list to create the label for our training model"
   ]
  },
  {
   "cell_type": "code",
   "execution_count": 16,
   "metadata": {},
   "outputs": [],
   "source": [
    "data_df = pd.DataFrame(file_data)\n",
    "file_types = set(data_df.file_type)"
   ]
  },
  {
   "cell_type": "code",
   "execution_count": 17,
   "metadata": {},
   "outputs": [
    {
     "data": {
      "text/html": [
       "<pre style=\"white-space:pre;overflow-x:auto;line-height:normal;font-family:Menlo,'DejaVu Sans Mono',consolas,'Courier New',monospace\"><span style=\"font-weight: bold\">{</span><span style=\"color: #008000\">'pyc'</span>, <span style=\"color: #008000\">'py'</span>, <span style=\"color: #008000\">'java'</span><span style=\"font-weight: bold\">}</span>\n",
       "</pre>\n"
      ],
      "text/plain": [
       "<rich.jupyter.JupyterRenderable at 0x18cf6d9ea88>"
      ]
     },
     "metadata": {},
     "output_type": "display_data"
    }
   ],
   "source": [
    "print(file_types)"
   ]
  },
  {
   "cell_type": "code",
   "execution_count": 18,
   "metadata": {},
   "outputs": [
    {
     "data": {
      "text/html": [
       "<div>\n",
       "<style scoped>\n",
       "    .dataframe tbody tr th:only-of-type {\n",
       "        vertical-align: middle;\n",
       "    }\n",
       "\n",
       "    .dataframe tbody tr th {\n",
       "        vertical-align: top;\n",
       "    }\n",
       "\n",
       "    .dataframe thead th {\n",
       "        text-align: right;\n",
       "    }\n",
       "</style>\n",
       "<table border=\"1\" class=\"dataframe\">\n",
       "  <thead>\n",
       "    <tr style=\"text-align: right;\">\n",
       "      <th></th>\n",
       "      <th>file_type</th>\n",
       "      <th>content</th>\n",
       "    </tr>\n",
       "  </thead>\n",
       "  <tbody>\n",
       "    <tr>\n",
       "      <th>0</th>\n",
       "      <td>java</td>\n",
       "      <td>import scanner public class JavaExample public...</td>\n",
       "    </tr>\n",
       "    <tr>\n",
       "      <th>1</th>\n",
       "      <td>java</td>\n",
       "      <td>import public class SimpleExample extend Frame...</td>\n",
       "    </tr>\n",
       "    <tr>\n",
       "      <th>2</th>\n",
       "      <td>java</td>\n",
       "      <td>import scanner public class BinarySearch publi...</td>\n",
       "    </tr>\n",
       "    <tr>\n",
       "      <th>3</th>\n",
       "      <td>java</td>\n",
       "      <td>import scanner public class JavaExample public...</td>\n",
       "    </tr>\n",
       "    <tr>\n",
       "      <th>4</th>\n",
       "      <td>java</td>\n",
       "      <td>public class deadlockdemo public void synchron...</td>\n",
       "    </tr>\n",
       "  </tbody>\n",
       "</table>\n",
       "</div>"
      ],
      "text/plain": [
       "  file_type                                            content\n",
       "0      java  import scanner public class JavaExample public...\n",
       "1      java  import public class SimpleExample extend Frame...\n",
       "2      java  import scanner public class BinarySearch publi...\n",
       "3      java  import scanner public class JavaExample public...\n",
       "4      java  public class deadlockdemo public void synchron..."
      ]
     },
     "execution_count": 18,
     "metadata": {},
     "output_type": "execute_result"
    }
   ],
   "source": [
    "data_df.head()"
   ]
  },
  {
   "cell_type": "markdown",
   "metadata": {},
   "source": [
    "## Building a Bag of Words model"
   ]
  },
  {
   "cell_type": "code",
   "execution_count": 19,
   "metadata": {},
   "outputs": [],
   "source": [
    "# Create an empty model\n",
    "nlp = en_core_web_sm.load()\n",
    "\n",
    "# Create the TextCategorizer with exclusive classes and \"bow\" architecture\n",
    "textcat = nlp.create_pipe(\n",
    "    \"textcat\",\n",
    "    config={\"exclusive_classes\": True, \"architecture\": \"bow\"}\n",
    ")\n",
    "\n",
    "# Add the TextCategorizer to the empty model\n",
    "nlp.add_pipe(textcat)"
   ]
  },
  {
   "cell_type": "markdown",
   "metadata": {},
   "source": [
    "**Adding label to our TextCategorizer. Labels are nothing but all the availabe file types**"
   ]
  },
  {
   "cell_type": "code",
   "execution_count": 20,
   "metadata": {},
   "outputs": [],
   "source": [
    "for types in file_types:\n",
    "    textcat.add_label(types)"
   ]
  },
  {
   "cell_type": "markdown",
   "metadata": {},
   "source": [
    "\n",
    "\n",
    "## Training a Text Categorizer Model"
   ]
  },
  {
   "cell_type": "code",
   "execution_count": 21,
   "metadata": {},
   "outputs": [],
   "source": [
    "train_texts = data_df['content'].values\n",
    "train_labels = []\n",
    "for label in data_df['file_type']:\n",
    "    cat = {\"cats\":{}}\n",
    "    for types in file_types:\n",
    "        cat[\"cats\"][types] = label == types\n",
    "    train_labels.append(cat)"
   ]
  },
  {
   "cell_type": "code",
   "execution_count": 22,
   "metadata": {},
   "outputs": [
    {
     "data": {
      "text/html": [
       "<pre style=\"white-space:pre;overflow-x:auto;line-height:normal;font-family:Menlo,'DejaVu Sans Mono',consolas,'Courier New',monospace\"><span style=\"font-weight: bold\">[</span>\n",
       "    <span style=\"font-weight: bold\">{</span><span style=\"color: #008000\">'cats'</span>: <span style=\"font-weight: bold\">{</span><span style=\"color: #008000\">'pyc'</span>: <span style=\"color: #ff0000; font-style: italic\">False</span>, <span style=\"color: #008000\">'py'</span>: <span style=\"color: #ff0000; font-style: italic\">False</span>, <span style=\"color: #008000\">'java'</span>: <span style=\"color: #00ff00; font-style: italic\">True</span><span style=\"font-weight: bold\">}}</span>, \n",
       "    <span style=\"font-weight: bold\">{</span><span style=\"color: #008000\">'cats'</span>: <span style=\"font-weight: bold\">{</span><span style=\"color: #008000\">'pyc'</span>: <span style=\"color: #ff0000; font-style: italic\">False</span>, <span style=\"color: #008000\">'py'</span>: <span style=\"color: #ff0000; font-style: italic\">False</span>, <span style=\"color: #008000\">'java'</span>: <span style=\"color: #00ff00; font-style: italic\">True</span><span style=\"font-weight: bold\">}}</span>, \n",
       "    <span style=\"font-weight: bold\">{</span><span style=\"color: #008000\">'cats'</span>: <span style=\"font-weight: bold\">{</span><span style=\"color: #008000\">'pyc'</span>: <span style=\"color: #ff0000; font-style: italic\">False</span>, <span style=\"color: #008000\">'py'</span>: <span style=\"color: #ff0000; font-style: italic\">False</span>, <span style=\"color: #008000\">'java'</span>: <span style=\"color: #00ff00; font-style: italic\">True</span><span style=\"font-weight: bold\">}}</span>, \n",
       "    <span style=\"font-weight: bold\">{</span><span style=\"color: #008000\">'cats'</span>: <span style=\"font-weight: bold\">{</span><span style=\"color: #008000\">'pyc'</span>: <span style=\"color: #ff0000; font-style: italic\">False</span>, <span style=\"color: #008000\">'py'</span>: <span style=\"color: #ff0000; font-style: italic\">False</span>, <span style=\"color: #008000\">'java'</span>: <span style=\"color: #00ff00; font-style: italic\">True</span><span style=\"font-weight: bold\">}}</span>, \n",
       "    <span style=\"font-weight: bold\">{</span><span style=\"color: #008000\">'cats'</span>: <span style=\"font-weight: bold\">{</span><span style=\"color: #008000\">'pyc'</span>: <span style=\"color: #ff0000; font-style: italic\">False</span>, <span style=\"color: #008000\">'py'</span>: <span style=\"color: #ff0000; font-style: italic\">False</span>, <span style=\"color: #008000\">'java'</span>: <span style=\"color: #00ff00; font-style: italic\">True</span><span style=\"font-weight: bold\">}}</span>\n",
       "<span style=\"font-weight: bold\">]</span>\n",
       "</pre>\n"
      ],
      "text/plain": [
       "<rich.jupyter.JupyterRenderable at 0x18c82f3f788>"
      ]
     },
     "metadata": {},
     "output_type": "display_data"
    }
   ],
   "source": [
    "print(train_labels[:5])"
   ]
  },
  {
   "cell_type": "markdown",
   "metadata": {},
   "source": [
    "**Combine the texts and labels into a single list.**"
   ]
  },
  {
   "cell_type": "code",
   "execution_count": 23,
   "metadata": {},
   "outputs": [],
   "source": [
    "train_data = list(zip(train_texts, train_labels))"
   ]
  },
  {
   "cell_type": "code",
   "execution_count": 24,
   "metadata": {},
   "outputs": [
    {
     "data": {
      "text/html": [
       "<pre style=\"white-space:pre;overflow-x:auto;line-height:normal;font-family:Menlo,'DejaVu Sans Mono',consolas,'Courier New',monospace\"><span style=\"font-weight: bold\">[</span>\n",
       "    <span style=\"font-weight: bold\">(</span>\n",
       "        <span style=\"color: #008000\">'import scanner public class JavaExample public static void arg int count temp </span>\n",
       "<span style=\"color: #008000\">scanner scan new number element want array count int num new array element int count int </span>\n",
       "<span style=\"color: #008000\">count int j j count temp temp Elements Ascending order int count'</span>, \n",
       "        <span style=\"font-weight: bold\">{</span>\n",
       "            <span style=\"color: #008000\">'cats'</span>: <span style=\"font-weight: bold\">{</span><span style=\"color: #008000\">'pyc'</span>: <span style=\"color: #ff0000; font-style: italic\">False</span>, <span style=\"color: #008000\">'py'</span>: <span style=\"color: #ff0000; font-style: italic\">False</span>, <span style=\"color: #008000\">'java'</span>: <span style=\"color: #00ff00; font-style: italic\">True</span><span style=\"font-weight: bold\">}</span>\n",
       "        <span style=\"font-weight: bold\">}</span>\n",
       "    <span style=\"font-weight: bold\">)</span>\n",
       "<span style=\"font-weight: bold\">]</span>\n",
       "</pre>\n"
      ],
      "text/plain": [
       "<rich.jupyter.JupyterRenderable at 0x18cf37f8fc8>"
      ]
     },
     "metadata": {},
     "output_type": "display_data"
    }
   ],
   "source": [
    "print(train_data[:1])"
   ]
  },
  {
   "cell_type": "markdown",
   "metadata": {},
   "source": [
    "##  Using loop for more epochs, and re-shuffling the training data at the begining of each loop."
   ]
  },
  {
   "cell_type": "code",
   "execution_count": 26,
   "metadata": {},
   "outputs": [
    {
     "data": {
      "text/html": [
       "<pre style=\"white-space:pre;overflow-x:auto;line-height:normal;font-family:Menlo,'DejaVu Sans Mono',consolas,'Courier New',monospace\"><span style=\"font-weight: bold\">{</span><span style=\"color: #008000\">'tagger'</span>: <span style=\"color: #000080; font-weight: bold\">59.143494099378586</span>, <span style=\"color: #008000\">'parser'</span>: <span style=\"color: #000080; font-weight: bold\">0.0</span>, <span style=\"color: #008000\">'ner'</span>: <span style=\"color: #000080; font-weight: bold\">0.0</span>, <span style=\"color: #008000\">'textcat'</span>: <span style=\"color: #000080; font-weight: bold\">0.004247932468835036</span><span style=\"font-weight: bold\">}</span>\n",
       "</pre>\n"
      ],
      "text/plain": [
       "<rich.jupyter.JupyterRenderable at 0x18c82745d08>"
      ]
     },
     "metadata": {},
     "output_type": "display_data"
    },
    {
     "data": {
      "text/html": [
       "<pre style=\"white-space:pre;overflow-x:auto;line-height:normal;font-family:Menlo,'DejaVu Sans Mono',consolas,'Courier New',monospace\"><span style=\"font-weight: bold\">{</span><span style=\"color: #008000\">'tagger'</span>: <span style=\"color: #000080; font-weight: bold\">120.77153021097183</span>, <span style=\"color: #008000\">'parser'</span>: <span style=\"color: #000080; font-weight: bold\">0.0</span>, <span style=\"color: #008000\">'ner'</span>: <span style=\"color: #000080; font-weight: bold\">0.0</span>, <span style=\"color: #008000\">'textcat'</span>: <span style=\"color: #000080; font-weight: bold\">0.006514698903484386</span><span style=\"font-weight: bold\">}</span>\n",
       "</pre>\n"
      ],
      "text/plain": [
       "<rich.jupyter.JupyterRenderable at 0x18cf36d5688>"
      ]
     },
     "metadata": {},
     "output_type": "display_data"
    },
    {
     "data": {
      "text/html": [
       "<pre style=\"white-space:pre;overflow-x:auto;line-height:normal;font-family:Menlo,'DejaVu Sans Mono',consolas,'Courier New',monospace\"><span style=\"font-weight: bold\">{</span><span style=\"color: #008000\">'tagger'</span>: <span style=\"color: #000080; font-weight: bold\">178.7554118335247</span>, <span style=\"color: #008000\">'parser'</span>: <span style=\"color: #000080; font-weight: bold\">0.0</span>, <span style=\"color: #008000\">'ner'</span>: <span style=\"color: #000080; font-weight: bold\">0.0</span>, <span style=\"color: #008000\">'textcat'</span>: <span style=\"color: #000080; font-weight: bold\">0.008687924989576663</span><span style=\"font-weight: bold\">}</span>\n",
       "</pre>\n"
      ],
      "text/plain": [
       "<rich.jupyter.JupyterRenderable at 0x18cf22ea208>"
      ]
     },
     "metadata": {},
     "output_type": "display_data"
    },
    {
     "data": {
      "text/html": [
       "<pre style=\"white-space:pre;overflow-x:auto;line-height:normal;font-family:Menlo,'DejaVu Sans Mono',consolas,'Courier New',monospace\"><span style=\"font-weight: bold\">{</span><span style=\"color: #008000\">'tagger'</span>: <span style=\"color: #000080; font-weight: bold\">228.2223891466856</span>, <span style=\"color: #008000\">'parser'</span>: <span style=\"color: #000080; font-weight: bold\">0.0</span>, <span style=\"color: #008000\">'ner'</span>: <span style=\"color: #000080; font-weight: bold\">0.0</span>, <span style=\"color: #008000\">'textcat'</span>: <span style=\"color: #000080; font-weight: bold\">0.01697072679203243</span><span style=\"font-weight: bold\">}</span>\n",
       "</pre>\n"
      ],
      "text/plain": [
       "<rich.jupyter.JupyterRenderable at 0x18c827c7a88>"
      ]
     },
     "metadata": {},
     "output_type": "display_data"
    },
    {
     "data": {
      "text/html": [
       "<pre style=\"white-space:pre;overflow-x:auto;line-height:normal;font-family:Menlo,'DejaVu Sans Mono',consolas,'Courier New',monospace\"><span style=\"font-weight: bold\">{</span><span style=\"color: #008000\">'tagger'</span>: <span style=\"color: #000080; font-weight: bold\">269.0073152631521</span>, <span style=\"color: #008000\">'parser'</span>: <span style=\"color: #000080; font-weight: bold\">0.0</span>, <span style=\"color: #008000\">'ner'</span>: <span style=\"color: #000080; font-weight: bold\">0.0</span>, <span style=\"color: #008000\">'textcat'</span>: <span style=\"color: #000080; font-weight: bold\">0.01868318002698007</span><span style=\"font-weight: bold\">}</span>\n",
       "</pre>\n"
      ],
      "text/plain": [
       "<rich.jupyter.JupyterRenderable at 0x18cf3381748>"
      ]
     },
     "metadata": {},
     "output_type": "display_data"
    },
    {
     "data": {
      "text/html": [
       "<pre style=\"white-space:pre;overflow-x:auto;line-height:normal;font-family:Menlo,'DejaVu Sans Mono',consolas,'Courier New',monospace\"><span style=\"font-weight: bold\">{</span><span style=\"color: #008000\">'tagger'</span>: <span style=\"color: #000080; font-weight: bold\">293.0863575860858</span>, <span style=\"color: #008000\">'parser'</span>: <span style=\"color: #000080; font-weight: bold\">0.0</span>, <span style=\"color: #008000\">'ner'</span>: <span style=\"color: #000080; font-weight: bold\">0.0</span>, <span style=\"color: #008000\">'textcat'</span>: <span style=\"color: #000080; font-weight: bold\">0.02027846829106133</span><span style=\"font-weight: bold\">}</span>\n",
       "</pre>\n"
      ],
      "text/plain": [
       "<rich.jupyter.JupyterRenderable at 0x18cf47f1f08>"
      ]
     },
     "metadata": {},
     "output_type": "display_data"
    },
    {
     "data": {
      "text/html": [
       "<pre style=\"white-space:pre;overflow-x:auto;line-height:normal;font-family:Menlo,'DejaVu Sans Mono',consolas,'Courier New',monospace\"><span style=\"font-weight: bold\">{</span><span style=\"color: #008000\">'tagger'</span>: <span style=\"color: #000080; font-weight: bold\">328.7405485212803</span>, <span style=\"color: #008000\">'parser'</span>: <span style=\"color: #000080; font-weight: bold\">0.0</span>, <span style=\"color: #008000\">'ner'</span>: <span style=\"color: #000080; font-weight: bold\">0.0</span>, <span style=\"color: #008000\">'textcat'</span>: <span style=\"color: #000080; font-weight: bold\">0.021782233934989983</span><span style=\"font-weight: bold\">}</span>\n",
       "</pre>\n"
      ],
      "text/plain": [
       "<rich.jupyter.JupyterRenderable at 0x18cf3ac9848>"
      ]
     },
     "metadata": {},
     "output_type": "display_data"
    },
    {
     "data": {
      "text/html": [
       "<pre style=\"white-space:pre;overflow-x:auto;line-height:normal;font-family:Menlo,'DejaVu Sans Mono',consolas,'Courier New',monospace\"><span style=\"font-weight: bold\">{</span><span style=\"color: #008000\">'tagger'</span>: <span style=\"color: #000080; font-weight: bold\">371.56793650984764</span>, <span style=\"color: #008000\">'parser'</span>: <span style=\"color: #000080; font-weight: bold\">0.0</span>, <span style=\"color: #008000\">'ner'</span>: <span style=\"color: #000080; font-weight: bold\">0.0</span>, <span style=\"color: #008000\">'textcat'</span>: <span style=\"color: #000080; font-weight: bold\">0.023255921532851356</span><span style=\"font-weight: bold\">}</span>\n",
       "</pre>\n"
      ],
      "text/plain": [
       "<rich.jupyter.JupyterRenderable at 0x18c82f03b88>"
      ]
     },
     "metadata": {},
     "output_type": "display_data"
    },
    {
     "data": {
      "text/html": [
       "<pre style=\"white-space:pre;overflow-x:auto;line-height:normal;font-family:Menlo,'DejaVu Sans Mono',consolas,'Courier New',monospace\"><span style=\"font-weight: bold\">{</span><span style=\"color: #008000\">'tagger'</span>: <span style=\"color: #000080; font-weight: bold\">408.60386677086353</span>, <span style=\"color: #008000\">'parser'</span>: <span style=\"color: #000080; font-weight: bold\">0.0</span>, <span style=\"color: #008000\">'ner'</span>: <span style=\"color: #000080; font-weight: bold\">0.0</span>, <span style=\"color: #008000\">'textcat'</span>: <span style=\"color: #000080; font-weight: bold\">0.024646423046378346</span><span style=\"font-weight: bold\">}</span>\n",
       "</pre>\n"
      ],
      "text/plain": [
       "<rich.jupyter.JupyterRenderable at 0x18c8223b648>"
      ]
     },
     "metadata": {},
     "output_type": "display_data"
    },
    {
     "data": {
      "text/html": [
       "<pre style=\"white-space:pre;overflow-x:auto;line-height:normal;font-family:Menlo,'DejaVu Sans Mono',consolas,'Courier New',monospace\"><span style=\"font-weight: bold\">{</span><span style=\"color: #008000\">'tagger'</span>: <span style=\"color: #000080; font-weight: bold\">436.7369889064139</span>, <span style=\"color: #008000\">'parser'</span>: <span style=\"color: #000080; font-weight: bold\">0.0</span>, <span style=\"color: #008000\">'ner'</span>: <span style=\"color: #000080; font-weight: bold\">0.0</span>, <span style=\"color: #008000\">'textcat'</span>: <span style=\"color: #000080; font-weight: bold\">0.02594609756861051</span><span style=\"font-weight: bold\">}</span>\n",
       "</pre>\n"
      ],
      "text/plain": [
       "<rich.jupyter.JupyterRenderable at 0x18cf3452ec8>"
      ]
     },
     "metadata": {},
     "output_type": "display_data"
    }
   ],
   "source": [
    "random.seed(1)\n",
    "spacy.util.fix_random_seed(1)\n",
    "optimizer = nlp.begin_training()\n",
    "\n",
    "losses = {}\n",
    "for epoch in range(10):\n",
    "    random.shuffle(train_data)\n",
    "    # Create the batch generator with batch size = 8\n",
    "    batches = minibatch(train_data, size=8)\n",
    "    # Iterate through minibatches\n",
    "    for batch in batches:\n",
    "        # Each batch is a list of (text, label) but we need to\n",
    "        # send separate lists for texts and labels to update().\n",
    "        # This is a quick way to split a list of tuples into lists\n",
    "        texts, labels = zip(*batch)\n",
    "        nlp.update(texts, labels, sgd=optimizer, losses=losses)\n",
    "    print(losses)"
   ]
  },
  {
   "cell_type": "markdown",
   "metadata": {},
   "source": [
    "## Making Predictions. Pass the path of the testing files to paths variable"
   ]
  },
  {
   "cell_type": "code",
   "execution_count": 28,
   "metadata": {},
   "outputs": [],
   "source": [
    "import sklearn"
   ]
  },
  {
   "cell_type": "code",
   "execution_count": 51,
   "metadata": {},
   "outputs": [
    {
     "data": {
      "text/html": [
       "<pre style=\"white-space:pre;overflow-x:auto;line-height:normal;font-family:Menlo,'DejaVu Sans Mono',consolas,'Courier New',monospace\">SARS-prediction-with-B-cell-data.ipynb\n",
       "</pre>\n"
      ],
      "text/plain": [
       "<rich.jupyter.JupyterRenderable at 0x18c956b6408>"
      ]
     },
     "metadata": {},
     "output_type": "display_data"
    },
    {
     "data": {
      "text/html": [
       "<pre style=\"white-space:pre;overflow-x:auto;line-height:normal;font-family:Menlo,'DejaVu Sans Mono',consolas,'Courier New',monospace\">bubble_Sort.java\n",
       "</pre>\n"
      ],
      "text/plain": [
       "<rich.jupyter.JupyterRenderable at 0x18c95422b08>"
      ]
     },
     "metadata": {},
     "output_type": "display_data"
    },
    {
     "data": {
      "text/html": [
       "<pre style=\"white-space:pre;overflow-x:auto;line-height:normal;font-family:Menlo,'DejaVu Sans Mono',consolas,'Courier New',monospace\">converting_to_sentence.py\n",
       "</pre>\n"
      ],
      "text/plain": [
       "<rich.jupyter.JupyterRenderable at 0x18c9586cac8>"
      ]
     },
     "metadata": {},
     "output_type": "display_data"
    },
    {
     "data": {
      "text/html": [
       "<pre style=\"white-space:pre;overflow-x:auto;line-height:normal;font-family:Menlo,'DejaVu Sans Mono',consolas,'Courier New',monospace\"><span style=\"font-weight: bold\">[[</span><span style=\"color: #000080; font-weight: bold\">1.1374979e-13</span> <span style=\"color: #000080; font-weight: bold\">1.0000000e+00</span> <span style=\"color: #000080; font-weight: bold\">2.4452963e-20</span><span style=\"font-weight: bold\">]</span>\n",
       " <span style=\"font-weight: bold\">[</span><span style=\"color: #000080; font-weight: bold\">8.7308220e-04</span> <span style=\"color: #000080; font-weight: bold\">6.0545425e-03</span> <span style=\"color: #000080; font-weight: bold\">9.9307233e-01</span><span style=\"font-weight: bold\">]</span>\n",
       " <span style=\"font-weight: bold\">[</span><span style=\"color: #000080; font-weight: bold\">4.6148272e-03</span> <span style=\"color: #000080; font-weight: bold\">9.8516327e-01</span> <span style=\"color: #000080; font-weight: bold\">1.0221924e-02</span><span style=\"font-weight: bold\">]]</span>\n",
       "</pre>\n"
      ],
      "text/plain": [
       "<rich.jupyter.JupyterRenderable at 0x18c956b6c08>"
      ]
     },
     "metadata": {},
     "output_type": "display_data"
    }
   ],
   "source": [
    "paths = [r\"test_files//\"]\n",
    "\n",
    "expected_file_data = {\"file_type\" : [], \"content\" : []}\n",
    "texts = []\n",
    "\n",
    "for path in paths:\n",
    "    files = os.listdir(path)\n",
    "    files = sorted(files)\n",
    "\n",
    "    for file_name in files:\n",
    "        print(file_name)\n",
    "\n",
    "        if \".\" in file_name and \"json\" not in file_name:\n",
    "\n",
    "            data = open(path+file_name,encoding = \"ISO-8859-1\")\n",
    "            content = data.read()\n",
    "            content = content.replace(\"\\n\",\" \")\n",
    "            type_of_file = file_name.split(\".\")[-1]\n",
    "            if type_of_file == \"ipynb\":\n",
    "                type_of_file = \"py\"\n",
    "            expected_file_data[\"file_type\"].append(type_of_file.strip())\n",
    "            \n",
    "            expected_file_data[\"content\"].append(content)\n",
    "            \n",
    "texts = expected_file_data[\"content\"]\n",
    "docs = [nlp.tokenizer(text) for text in texts]\n",
    "    \n",
    "# Use textcat to get the scores for each doc\n",
    "textcat = nlp.get_pipe('textcat')\n",
    "scores, _ = textcat.predict(docs)\n",
    "\n",
    "print(scores)"
   ]
  },
  {
   "cell_type": "markdown",
   "metadata": {},
   "source": [
    "## Comparing Predictions"
   ]
  },
  {
   "cell_type": "code",
   "execution_count": 52,
   "metadata": {},
   "outputs": [
    {
     "data": {
      "text/html": [
       "<div>\n",
       "<style scoped>\n",
       "    .dataframe tbody tr th:only-of-type {\n",
       "        vertical-align: middle;\n",
       "    }\n",
       "\n",
       "    .dataframe tbody tr th {\n",
       "        vertical-align: top;\n",
       "    }\n",
       "\n",
       "    .dataframe thead th {\n",
       "        text-align: right;\n",
       "    }\n",
       "</style>\n",
       "<table border=\"1\" class=\"dataframe\">\n",
       "  <thead>\n",
       "    <tr style=\"text-align: right;\">\n",
       "      <th></th>\n",
       "      <th>File Name</th>\n",
       "      <th>Predicted file type</th>\n",
       "      <th>Expected file type</th>\n",
       "    </tr>\n",
       "  </thead>\n",
       "  <tbody>\n",
       "    <tr>\n",
       "      <th>0</th>\n",
       "      <td>SARS-prediction-with-B-cell-data.ipynb</td>\n",
       "      <td>py</td>\n",
       "      <td>py</td>\n",
       "    </tr>\n",
       "    <tr>\n",
       "      <th>1</th>\n",
       "      <td>bubble_Sort.java</td>\n",
       "      <td>java</td>\n",
       "      <td>java</td>\n",
       "    </tr>\n",
       "    <tr>\n",
       "      <th>2</th>\n",
       "      <td>converting_to_sentence.py</td>\n",
       "      <td>py</td>\n",
       "      <td>py</td>\n",
       "    </tr>\n",
       "  </tbody>\n",
       "</table>\n",
       "</div>"
      ],
      "text/plain": [
       "                                File Name Predicted file type  \\\n",
       "0  SARS-prediction-with-B-cell-data.ipynb                  py   \n",
       "1                        bubble_Sort.java                java   \n",
       "2               converting_to_sentence.py                  py   \n",
       "\n",
       "  Expected file type  \n",
       "0                 py  \n",
       "1               java  \n",
       "2                 py  "
      ]
     },
     "execution_count": 52,
     "metadata": {},
     "output_type": "execute_result"
    }
   ],
   "source": [
    "# From the scores, find the label with the highest score/probability\n",
    "predicted_labels = scores.argmax(axis=1)\n",
    "predicted = [textcat.labels[label] for label in predicted_labels]\n",
    "\n",
    "result = {\"File Name\" : files, \"Predicted file type\" : predicted, \"Expected file type\" : expected_file_data[\"file_type\"]}\n",
    "\n",
    "result = pd.DataFrame(result)\n",
    "result"
   ]
  }
 ],
 "metadata": {
  "kernelspec": {
   "display_name": "Python 3",
   "language": "python",
   "name": "python3"
  },
  "language_info": {
   "codemirror_mode": {
    "name": "ipython",
    "version": 3
   },
   "file_extension": ".py",
   "mimetype": "text/x-python",
   "name": "python",
   "nbconvert_exporter": "python",
   "pygments_lexer": "ipython3",
   "version": "3.7.5"
  }
 },
 "nbformat": 4,
 "nbformat_minor": 4
}
